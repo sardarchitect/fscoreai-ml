{
 "cells": [
  {
   "cell_type": "markdown",
   "id": "8c2b3933",
   "metadata": {},
   "source": [
    "An alternative view of finding the optimized parameters is to think about the probabilistic method that might have generated our data (as a conditional probability distribution). This procedure must have had some parameters that we could estimate to try and re-generate the data. \n",
    "\n",
    "### Data\n",
    "Let's say we are given a dataset $\\mathcal{D} = \\left\\{\\left(x^{(1)}, y^{(1)}\\right),\\dots,\\left(x^{(n)}, y^{(n)}\\right)\\right\\}$, where $x^{(i)} \\in \\mathbb{R}^n$ is an independent variable, while $y^{(i)} \\in \\mathbb{R}^n$ is a dependent variable that follows a normal distribution over all $X$. This means tha at every $x^{(i)}$, there is a $y^{(i)}$ following a normal distribution defined by an independent and fixed standard deviation $\\sigma$, and a $X$-dependent and variable coefficient $\\theta$. Mathematically, $$y^{(i)}\\sim\\mathcal{N}\\left(y^{(i)}, \\mu=\\theta x^{(i)},\\sigma\\right)$$\n",
    "\n",
    "### Hypothesis/Goal\n",
    "We are interested in producing a model that, instead of estimating a single value $\\hat y$, it estimates a conditional distribution $p(Y|X)$. More specifically, we would like to find the parameters $\\theta^*$ that give us the maximum likelihood of observing our training examples.\n",
    "\n",
    "Since we assumed that all $y^{(i)}$ follow a univariate Gaussian, we can write the probability as: \n",
    "$$\n",
    "\\text{Pr}\\left(y^{(i)}|x^{(i)}, \\mu, \\sigma\\right) = \\frac{1}{\\sqrt{2\\pi\\sigma^2}}\\exp\\left(-\\frac{1}{2\\sigma^2}\\left(y^{(i)} - \\theta x^{(i)}\\right)^2\\right)\n",
    "$$\n",
    "\n"
   ]
  },
  {
   "cell_type": "code",
   "execution_count": null,
   "id": "502d2661",
   "metadata": {},
   "outputs": [],
   "source": [
    "https://www.cs.princeton.edu/courses/archive/fall18/cos324/files/mle-regression.pdf"
   ]
  },
  {
   "cell_type": "code",
   "execution_count": null,
   "id": "985da0a2",
   "metadata": {},
   "outputs": [],
   "source": []
  }
 ],
 "metadata": {
  "kernelspec": {
   "display_name": "Python 3 (ipykernel)",
   "language": "python",
   "name": "python3"
  },
  "language_info": {
   "codemirror_mode": {
    "name": "ipython",
    "version": 3
   },
   "file_extension": ".py",
   "mimetype": "text/x-python",
   "name": "python",
   "nbconvert_exporter": "python",
   "pygments_lexer": "ipython3",
   "version": "3.10.9"
  }
 },
 "nbformat": 4,
 "nbformat_minor": 5
}
