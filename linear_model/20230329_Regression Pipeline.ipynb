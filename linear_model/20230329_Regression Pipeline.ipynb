{
 "cells": [
  {
   "cell_type": "code",
   "execution_count": 1,
   "id": "ddcac0bf",
   "metadata": {},
   "outputs": [],
   "source": [
    "import numpy as np\n",
    "import pandas as pd\n",
    "import matplotlib.pyplot as plt"
   ]
  },
  {
   "cell_type": "code",
   "execution_count": 2,
   "id": "559d7b52",
   "metadata": {},
   "outputs": [],
   "source": [
    "import sys\n",
    "sys.path.append(\"../../fscoreai-ml/\")"
   ]
  },
  {
   "cell_type": "code",
   "execution_count": 3,
   "id": "ce4d1ed7",
   "metadata": {},
   "outputs": [],
   "source": [
    "from fscoreai.utils import utils\n",
    "from fscoreai.sample_data import sample_data\n",
    "from fscoreai.linear_model import linear_regression\n",
    "from fscoreai.loss import loss"
   ]
  },
  {
   "cell_type": "code",
   "execution_count": 19,
   "id": "fd24a723",
   "metadata": {
    "scrolled": true
   },
   "outputs": [
    {
     "name": "stdout",
     "output_type": "stream",
     "text": [
      "(100, 1) (100,)\n"
     ]
    }
   ],
   "source": [
    "X, y = sample_data.get_data(name='simulate_linear_data')\n",
    "print(X.shape, y.shape)"
   ]
  },
  {
   "cell_type": "code",
   "execution_count": 20,
   "id": "ab171449",
   "metadata": {},
   "outputs": [
    {
     "name": "stdout",
     "output_type": "stream",
     "text": [
      "Linear Regression Model Initialized\n",
      "0.9135935729613109 [2.06896634]\n"
     ]
    }
   ],
   "source": [
    "model = linear_regression.LinearRegression()\n",
    "model.fit(X, y)\n",
    "y_pred = model.predict(X)\n",
    "print(model.intercept_, model.coef_)"
   ]
  },
  {
   "cell_type": "code",
   "execution_count": 21,
   "id": "6ea5f10e",
   "metadata": {},
   "outputs": [],
   "source": [
    "def squared_error(a, b):\n",
    "    return np.sum(np.square(a - b))\n",
    "\n",
    "def mean_squared_error(a, b):\n",
    "    return np.sum(np.square(a - b))/a.shape[0]\n",
    "\n",
    "def mean_absolute_error(a, b):\n",
    "    return np.sum(np.absolute(a - b))/a.shape[0]    \n",
    "\n",
    "def root_mean_squared_error(a, b):\n",
    "    return np.sqrt(mean_squared_error(a, b))\n",
    "\n",
    "def root_mean_squared_log_error(a, b):\n",
    "    return np.log(np.sqrt(mean_squared_error(a, b)))\n",
    "    \n",
    "def r_squared(y, y_pred):\n",
    "    y_mean = y.copy()\n",
    "    for i in range(y.shape[0]):\n",
    "        y_mean[i] = np.mean(y)\n",
    "\n",
    "    SSM = squared_error(y, y_mean)\n",
    "    SSR = squared_error(y, y_pred)\n",
    "    return 1 - (SSR / SSM)"
   ]
  },
  {
   "cell_type": "code",
   "execution_count": 22,
   "id": "0e58f868",
   "metadata": {},
   "outputs": [
    {
     "name": "stdout",
     "output_type": "stream",
     "text": [
      "0.357481474048097 0.20372617837451956 0.4513603642041684 -0.795489224824823 0.6411066887870535\n"
     ]
    }
   ],
   "source": [
    "mse_score = mean_squared_error(y, y_pred)\n",
    "mae_score = mean_absolute_error(y, y_pred)\n",
    "rmse_score = root_mean_squared_error(y, y_pred)\n",
    "rmsle_score = root_mean_squared_log_error(y, y_pred)\n",
    "r2_score = r_squared(y, y_pred)\n",
    "\n",
    "print(mae_score, mse_score, rmse_score, rmsle_score, r2_score)"
   ]
  },
  {
   "cell_type": "code",
   "execution_count": null,
   "id": "e6022295",
   "metadata": {},
   "outputs": [],
   "source": []
  }
 ],
 "metadata": {
  "kernelspec": {
   "display_name": "Python 3 (ipykernel)",
   "language": "python",
   "name": "python3"
  },
  "language_info": {
   "codemirror_mode": {
    "name": "ipython",
    "version": 3
   },
   "file_extension": ".py",
   "mimetype": "text/x-python",
   "name": "python",
   "nbconvert_exporter": "python",
   "pygments_lexer": "ipython3",
   "version": "3.10.9"
  }
 },
 "nbformat": 4,
 "nbformat_minor": 5
}
