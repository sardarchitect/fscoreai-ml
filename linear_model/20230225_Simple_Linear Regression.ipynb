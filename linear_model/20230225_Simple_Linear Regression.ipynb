{
 "cells": [
  {
   "cell_type": "markdown",
   "id": "4010f7b0",
   "metadata": {},
   "source": [
    "# Imports"
   ]
  },
  {
   "cell_type": "code",
   "execution_count": 1,
   "id": "f1c1b050",
   "metadata": {},
   "outputs": [],
   "source": [
    "import sys\n",
    "import os\n",
    "sys.path.append(\"../\")\n",
    "\n",
    "import pandas as pd\n",
    "import numpy as np\n",
    "import matplotlib.pyplot as plt"
   ]
  },
  {
   "cell_type": "code",
   "execution_count": 2,
   "id": "e8e691ac",
   "metadata": {},
   "outputs": [
    {
     "ename": "ImportError",
     "evalue": "cannot import name 'utils' from 'fscoreai.utils' (/home/sardarchitect/repos/fscoreai-ml/exploration/../fscoreai/utils.py)",
     "output_type": "error",
     "traceback": [
      "\u001b[0;31m---------------------------------------------------------------------------\u001b[0m",
      "\u001b[0;31mImportError\u001b[0m                               Traceback (most recent call last)",
      "Cell \u001b[0;32mIn[2], line 1\u001b[0m\n\u001b[0;32m----> 1\u001b[0m \u001b[38;5;28;01mfrom\u001b[39;00m \u001b[38;5;21;01mfscoreai\u001b[39;00m\u001b[38;5;21;01m.\u001b[39;00m\u001b[38;5;21;01mutils\u001b[39;00m \u001b[38;5;28;01mimport\u001b[39;00m utils\n\u001b[1;32m      2\u001b[0m \u001b[38;5;28;01mfrom\u001b[39;00m \u001b[38;5;21;01mfscoreai\u001b[39;00m\u001b[38;5;21;01m.\u001b[39;00m\u001b[38;5;21;01mloss\u001b[39;00m \u001b[38;5;28;01mimport\u001b[39;00m loss\n\u001b[1;32m      3\u001b[0m \u001b[38;5;28;01mfrom\u001b[39;00m \u001b[38;5;21;01msample_data\u001b[39;00m \u001b[38;5;28;01mimport\u001b[39;00m sample_data\n",
      "\u001b[0;31mImportError\u001b[0m: cannot import name 'utils' from 'fscoreai.utils' (/home/sardarchitect/repos/fscoreai-ml/exploration/../fscoreai/utils.py)"
     ]
    }
   ],
   "source": [
    "from fscoreai.utils import \n",
    "from fscoreai.loss import loss\n",
    "from sample_data import sample_data"
   ]
  },
  {
   "cell_type": "code",
   "execution_count": null,
   "id": "82ebbe89",
   "metadata": {},
   "outputs": [],
   "source": [
    "from sklearn.preprocessing import normalize\n",
    "from sklearn.linear_model import LinearRegression"
   ]
  },
  {
   "cell_type": "markdown",
   "id": "38eae9b5",
   "metadata": {},
   "source": [
    "# One-Dimensional Data"
   ]
  },
  {
   "cell_type": "code",
   "execution_count": null,
   "id": "24d2bb44",
   "metadata": {
    "scrolled": true
   },
   "outputs": [],
   "source": [
    "X, y = sample_data.simulate_linear_data()\n",
    "print(X.shape, y.shape)"
   ]
  },
  {
   "cell_type": "code",
   "execution_count": null,
   "id": "04d1c95c",
   "metadata": {},
   "outputs": [],
   "source": [
    "plt.scatter(X, y)"
   ]
  },
  {
   "cell_type": "markdown",
   "id": "9a6c288f",
   "metadata": {},
   "source": [
    "## SimpleLinear Regression with SkLearn"
   ]
  },
  {
   "cell_type": "code",
   "execution_count": null,
   "id": "ca31a414",
   "metadata": {},
   "outputs": [],
   "source": [
    "model_sklearn = LinearRegression(fit_intercept=True)\n",
    "model_sklearn.fit(X,y)\n",
    "print(model_sklearn.coef_, model_sklearn.intercept_)"
   ]
  },
  {
   "cell_type": "code",
   "execution_count": null,
   "id": "84120b9f",
   "metadata": {},
   "outputs": [],
   "source": [
    "model_sklearn.predict(X).shape"
   ]
  },
  {
   "cell_type": "markdown",
   "id": "15bb1b0f",
   "metadata": {},
   "source": [
    "## Custom Simple Linear Regression"
   ]
  },
  {
   "cell_type": "code",
   "execution_count": null,
   "id": "85684745",
   "metadata": {},
   "outputs": [],
   "source": [
    "class SimpleLinearRegression():\n",
    "    def __init__(self):\n",
    "        self.coef_ = 0\n",
    "        self.intercept_ = 0\n",
    "    \n",
    "    def fit_stat(self, X, y):\n",
    "        # Closed-form Solution\n",
    "            X_mean = np.mean(X, axis=0)\n",
    "            y_mean = np.mean(y)\n",
    "            self.coef_ = np.sum((X - X_mean).T*(y-y_mean), axis=1)/(np.sum((X - X_mean)**2, axis=0)) \n",
    "            self.intercept_ = y_mean - (self.coef_ * X_mean)\n",
    "            return self\n",
    "    \n",
    "    def fit_grad(self, X, y, lr=1e-8, epochs=50):\n",
    "        # Batch Gradient Descent Solution\n",
    "            self.lr = lr  #   Learning rate\n",
    "            self.epochs = epochs\n",
    "            self.n, self.d = X.shape\n",
    "            \n",
    "            for epoch in range(self.epochs):\n",
    "                for j in range(self.d):\n",
    "                    y_pred = self.predict(X)\n",
    "                    d_coef = - (2 / self.n) * np.sum((y - y_pred).dot(X[:,j])) #Derivative w.r.t. self.coef_\n",
    "                    d_intercept = - (2 / self.n) * np.sum(y - y_pred) #Derivative w.r.t. self.intercept_\n",
    "                    self.coef_ -=  self.lr * d_coef          #    Update self.coef_ \n",
    "                    self.intercept_ -=  self.lr * d_intercept  #    Update self.intercept_\n",
    "            return self\n",
    "        \n",
    "    def predict(self, X):\n",
    "        return np.dot(X, self.coef_) + self.intercept_"
   ]
  },
  {
   "cell_type": "code",
   "execution_count": null,
   "id": "5c054867",
   "metadata": {},
   "outputs": [],
   "source": [
    "# Using Closed-form Solution\n",
    "model_fscore_1 = SimpleLinearRegression()\n",
    "model_fscore_1.fit_stat(X,y)\n",
    "print(model_fscore_1.coef_, model_fscore_1.intercept_)"
   ]
  },
  {
   "cell_type": "code",
   "execution_count": null,
   "id": "26a8a6b3",
   "metadata": {
    "scrolled": true
   },
   "outputs": [],
   "source": [
    "# Using Batch Gradient Descent Solution\n",
    "model_fscore_2 = SimpleLinearRegression()\n",
    "model_fscore_2.fit_grad(X,y,lr=1e-6, epochs=10000)\n",
    "print(model_fscore_2.coef_, model_fscore_2.intercept_)"
   ]
  },
  {
   "cell_type": "markdown",
   "id": "371f4e3f",
   "metadata": {},
   "source": [
    "## Plotting the models"
   ]
  },
  {
   "cell_type": "code",
   "execution_count": null,
   "id": "6d7b373c",
   "metadata": {
    "scrolled": false
   },
   "outputs": [],
   "source": [
    "preds_sklearn = model_sklearn.predict(X)\n",
    "preds_fscore_1 = model_fscore_1.predict(X)\n",
    "preds_fscore_2 = model_fscore_2.predict(X)\n",
    "\n",
    "plt.figure(figsize=(10,4))\n",
    "plt.scatter(X, y)\n",
    "plt.plot(X, preds_sklearn, color='red')\n",
    "plt.plot(X, preds_fscore_1, color='yellow')\n",
    "plt.plot(X, preds_fscore_2, color='green')\n",
    "\n",
    "plt.show()"
   ]
  },
  {
   "cell_type": "markdown",
   "id": "bb24caac",
   "metadata": {},
   "source": [
    "# Multi-Dimensional Data"
   ]
  },
  {
   "cell_type": "code",
   "execution_count": null,
   "id": "1d06078c",
   "metadata": {
    "scrolled": true
   },
   "outputs": [],
   "source": [
    "X, y = sample_data.diabetes_data()"
   ]
  },
  {
   "cell_type": "code",
   "execution_count": null,
   "id": "c6283e78",
   "metadata": {
    "scrolled": false
   },
   "outputs": [],
   "source": [
    "# Don't plot the sex data\n",
    "X = X.drop(columns='sex')\n",
    "features = X.columns\n",
    "\n",
    "# Plot\n",
    "fig, axs = plt.subplots(3, 3)\n",
    "fig.suptitle('Diabetes Dataset')\n",
    "for i in range(3):\n",
    "    for j in range(3):\n",
    "        n = j + i * 3\n",
    "        feature = features[n]\n",
    "        axs[i, j].scatter(X[feature], y, s=1)\n",
    "        axs[i, j].set_xlabel(feature)\n",
    "        axs[i, j].set_ylabel('target')\n",
    "plt.tight_layout()\n",
    "plt.show()"
   ]
  },
  {
   "cell_type": "markdown",
   "id": "fdf64212",
   "metadata": {},
   "source": [
    "## Multiple Linear Regression with SkLearn"
   ]
  },
  {
   "cell_type": "code",
   "execution_count": null,
   "id": "24cb253d",
   "metadata": {},
   "outputs": [],
   "source": [
    "X, y = X.to_numpy(), y.to_numpy()"
   ]
  },
  {
   "cell_type": "code",
   "execution_count": null,
   "id": "ce762418",
   "metadata": {},
   "outputs": [],
   "source": [
    "# SkLearn for Comparision\n",
    "model_sklearn = LinearRegression(fit_intercept=True)\n",
    "model_sklearn.fit(X,y)\n",
    "print(\"Coef_:\\n\", model_sklearn.coef_)\n",
    "print(\"\\nIntercept_:\\n\", model_sklearn.intercept_)\n",
    "print(\"\\nMSE:\\n\",loss.mean_squared_error(y, model_sklearn.predict(X)))"
   ]
  },
  {
   "cell_type": "markdown",
   "id": "f8fcba8c",
   "metadata": {},
   "source": [
    "## Custom Multiple Linear Regression"
   ]
  },
  {
   "cell_type": "code",
   "execution_count": null,
   "id": "b78020ef",
   "metadata": {},
   "outputs": [],
   "source": [
    "class MultipleLinearRegression():\n",
    "    def __init__(self):\n",
    "        self.betas = None\n",
    "        self.coef_ = None\n",
    "        self.intercept_ = None\n",
    "        \n",
    "        self.betas_history = {}\n",
    "        self.loss_history = {}\n",
    "        self.gradients_history = {}\n",
    "    \n",
    "    def fit_stat(self, X, y):\n",
    "        # Closed-form Solution\n",
    "        self.n, self.d = X.shape\n",
    "        x_0 = np.ones((self.n, 1))\n",
    "        x = np.hstack((x_0, X))\n",
    "        self.betas = np.linalg.inv(np.dot(x.T, x)).dot(np.dot(x.T, y))\n",
    "\n",
    "        self.intercept_ = self.betas[0]\n",
    "        self.coef_ = self.betas[1:]\n",
    "        return self\n",
    "    \n",
    "    def fit_grad(self, X, y, lr, iters, regularization=False):\n",
    "        # Batch Gradient Descent Solution\n",
    "        reg = 0\n",
    "        if regularization:\n",
    "            reg = 0.1\n",
    "        y = y.reshape(-1, 1)\n",
    "        self.n, self.d = X.shape\n",
    "        x_0 = np.ones((self.n, 1))\n",
    "        x = np.hstack((x_0, X))\n",
    "\n",
    "        # Initialize betas\n",
    "        self.betas = np.random.randn(self.d + 1, 1)\n",
    "\n",
    "        for i in range(iters):\n",
    "            y_pred = np.dot(x, self.betas)\n",
    "            delta_betas = 2 * np.dot(x.T, (y_pred - y)) + reg * self.betas\n",
    "            self.betas -= (lr * delta_betas)\n",
    "\n",
    "            # Logging Loss\n",
    "            self.gradients_history[i] = delta_betas\n",
    "            b = self.betas.copy()\n",
    "            self.betas_history[i] = b\n",
    "            self.loss_history[i] = loss.mean_squared_error(y_pred, y)\n",
    "\n",
    "        self.intercept_ = self.betas[0]\n",
    "        self.coef_ = self.betas[1:]\n",
    "        return self\n",
    "        \n",
    "    def predict(self, X):\n",
    "        x_0 = np.ones((X.shape[0], 1))\n",
    "        x = np.hstack((x_0, X))\n",
    "        return np.dot(x, self.betas)"
   ]
  },
  {
   "cell_type": "code",
   "execution_count": null,
   "id": "fa45c275",
   "metadata": {},
   "outputs": [],
   "source": [
    "# Closed-form solution\n",
    "model_fscore_1 = MultipleLinearRegression()\n",
    "model_fscore_1.fit_stat(X,y)\n",
    "print(\"Coef_:\\n\", model_fscore_1.coef_)\n",
    "print(\"\\nIntercept_:\\n\", model_fscore_1.intercept_)\n",
    "print(\"\\nMSE:\\n\",loss.mean_squared_error(y, model_fscore_1.predict(X)))"
   ]
  },
  {
   "cell_type": "markdown",
   "id": "f07e0688",
   "metadata": {},
   "source": [
    "# Linear Regression Batch Gradient Descent Analysis"
   ]
  },
  {
   "cell_type": "code",
   "execution_count": null,
   "id": "a496a75a",
   "metadata": {},
   "outputs": [],
   "source": [
    "model = MultipleLinearRegression()\n",
    "model.fit_grad(X, y, lr=1e-8, iters=100000, regularization=False)\n",
    "print(\"Coef_:\\n\", model.coef_)\n",
    "print(\"\\nIntercept_:\\n\", model.intercept_)\n",
    "print(\"\\nMSE:\\n\",loss.mean_squared_error(y, model.predict(X)))"
   ]
  },
  {
   "cell_type": "code",
   "execution_count": null,
   "id": "19b863b4",
   "metadata": {
    "scrolled": false
   },
   "outputs": [],
   "source": [
    "# Logging and visualizing stored training data\n",
    "model_betas = np.array(list(model.betas_history.values()))\n",
    "model_gradients = np.array(list(model.gradients_history.values()))\n",
    "model_loss = np.array(list(model.loss_history.values()))\n",
    "\n",
    "# Visualize Model Gradients\n",
    "fig, axs = plt.subplots(3,3,constrained_layout=True)\n",
    "fig.suptitle('Model Gradients vs. Iterations')\n",
    "for i in range(3):\n",
    "    for j in range(3):\n",
    "        n = j + i * 3\n",
    "        axs[i][j].plot(model.gradients_history.keys(), model_gradients[:, n])\n",
    "plt.show()\n",
    "\n",
    "# Visualize Model Parameters\n",
    "fig, axs = plt.subplots(3, 3, constrained_layout = True)\n",
    "fig.suptitle('Model Parameters vs. Iterations')\n",
    "for i in range(3):\n",
    "    for j in range(3):\n",
    "        n = j + i * 3\n",
    "        axs[i][j].plot(model.betas_history.keys(), model_betas[:, n])\n",
    "plt.show()\n",
    "\n",
    "# Visualize Model Loss\n",
    "plt.plot(model.loss_history.keys(), model_loss)\n",
    "plt.title(\"Loss vs. Iterations\")\n",
    "plt.show()"
   ]
  },
  {
   "cell_type": "code",
   "execution_count": null,
   "id": "41a2c41c",
   "metadata": {},
   "outputs": [],
   "source": [
    "# Plot\n",
    "fig, axs = plt.subplots(3, 3)\n",
    "fig.suptitle('Diabetes Dataset')\n",
    "for i in range(3):\n",
    "    for j in range(3):\n",
    "        n = j + i * 3\n",
    "        axs[i][j].scatter(X[:, n], y, s=1)\n",
    "        axs[i][j].scatter(X[:, n], model.predict(X), s=1)\n",
    "plt.tight_layout()\n",
    "plt.show()"
   ]
  },
  {
   "cell_type": "code",
   "execution_count": null,
   "id": "0f9ab7cc",
   "metadata": {},
   "outputs": [],
   "source": []
  },
  {
   "cell_type": "code",
   "execution_count": null,
   "id": "13b3dac6",
   "metadata": {},
   "outputs": [],
   "source": []
  },
  {
   "cell_type": "code",
   "execution_count": null,
   "id": "477775fc",
   "metadata": {},
   "outputs": [],
   "source": []
  }
 ],
 "metadata": {
  "kernelspec": {
   "display_name": "Python 3 (ipykernel)",
   "language": "python",
   "name": "python3"
  },
  "language_info": {
   "codemirror_mode": {
    "name": "ipython",
    "version": 3
   },
   "file_extension": ".py",
   "mimetype": "text/x-python",
   "name": "python",
   "nbconvert_exporter": "python",
   "pygments_lexer": "ipython3",
   "version": "3.11.4"
  }
 },
 "nbformat": 4,
 "nbformat_minor": 5
}
