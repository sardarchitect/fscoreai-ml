{
 "cells": [
  {
   "cell_type": "code",
   "execution_count": 1,
   "id": "c0c3794f",
   "metadata": {},
   "outputs": [],
   "source": [
    "import sys\n",
    "sys.path.append('../../')"
   ]
  },
  {
   "cell_type": "code",
   "execution_count": 2,
   "id": "6f711b1f",
   "metadata": {},
   "outputs": [
    {
     "ename": "ModuleNotFoundError",
     "evalue": "No module named 'sklearn'",
     "output_type": "error",
     "traceback": [
      "\u001b[0;31m---------------------------------------------------------------------------\u001b[0m",
      "\u001b[0;31mModuleNotFoundError\u001b[0m                       Traceback (most recent call last)",
      "Cell \u001b[0;32mIn[2], line 3\u001b[0m\n\u001b[1;32m      1\u001b[0m \u001b[38;5;28;01mimport\u001b[39;00m \u001b[38;5;21;01mmatplotlib\u001b[39;00m\u001b[38;5;21;01m.\u001b[39;00m\u001b[38;5;21;01mpyplot\u001b[39;00m \u001b[38;5;28;01mas\u001b[39;00m \u001b[38;5;21;01mplt\u001b[39;00m\n\u001b[1;32m      2\u001b[0m \u001b[38;5;28;01mimport\u001b[39;00m \u001b[38;5;21;01mnumpy\u001b[39;00m \u001b[38;5;28;01mas\u001b[39;00m \u001b[38;5;21;01mnp\u001b[39;00m\n\u001b[0;32m----> 3\u001b[0m \u001b[38;5;28;01mfrom\u001b[39;00m \u001b[38;5;21;01msklearn\u001b[39;00m \u001b[38;5;28;01mimport\u001b[39;00m linear_model\n",
      "\u001b[0;31mModuleNotFoundError\u001b[0m: No module named 'sklearn'"
     ]
    }
   ],
   "source": [
    "import matplotlib.pyplot as plt\n",
    "import numpy as np\n",
    "from sklearn import linear_model"
   ]
  },
  {
   "cell_type": "code",
   "execution_count": null,
   "id": "3bd9124e",
   "metadata": {},
   "outputs": [],
   "source": [
    "from sample_data import sample_data\n",
    "from fscoreai import linear\n",
    "from fscoreai import loss"
   ]
  },
  {
   "cell_type": "markdown",
   "id": "c78cd92a",
   "metadata": {},
   "source": [
    "# Univariate Linear Data"
   ]
  },
  {
   "cell_type": "code",
   "execution_count": null,
   "id": "ca5b1960",
   "metadata": {},
   "outputs": [],
   "source": [
    "X, y = sample_data.simulate_linear_data()\n",
    "plt.scatter(X, y)"
   ]
  },
  {
   "cell_type": "markdown",
   "id": "9b4b84cb",
   "metadata": {},
   "source": [
    "## Sklearn Model"
   ]
  },
  {
   "cell_type": "code",
   "execution_count": null,
   "id": "087e7d0f",
   "metadata": {},
   "outputs": [],
   "source": [
    "model_skl = linear_model.LinearRegression()\n",
    "model_skl.fit(X, y)\n",
    "print(model_skl.intercept_, model_skl.coef_)"
   ]
  },
  {
   "cell_type": "markdown",
   "id": "7110b974",
   "metadata": {},
   "source": [
    "## Custom Class"
   ]
  },
  {
   "cell_type": "code",
   "execution_count": null,
   "id": "f8ef4fc0",
   "metadata": {},
   "outputs": [],
   "source": [
    "# Closed Form \n",
    "model = linear.LinearRegression()\n",
    "model.fit_closed_form(X, y)\n",
    "print(model.intercept_, model.coef_)"
   ]
  },
  {
   "cell_type": "code",
   "execution_count": null,
   "id": "72e5182f",
   "metadata": {
    "scrolled": true
   },
   "outputs": [],
   "source": [
    "# Gradient Descent\n",
    "model = linear.LinearRegression()\n",
    "model.fit(X, y, lr=1e-2, n_epochs=1000)\n",
    "print(model.intercept_, model.coef_)"
   ]
  },
  {
   "cell_type": "markdown",
   "id": "2fcf173f",
   "metadata": {},
   "source": [
    "## Plotting"
   ]
  },
  {
   "cell_type": "code",
   "execution_count": null,
   "id": "b8bc8ad1",
   "metadata": {},
   "outputs": [],
   "source": [
    "X_test = np.arange(X.min(), X.max(), 0.1).reshape(-1, 1)\n",
    "y_pred = model.predict(X_test)\n",
    "plt.scatter(X, y)\n",
    "plt.plot(X_test, y_pred, c=\"red\")"
   ]
  },
  {
   "cell_type": "markdown",
   "id": "d748d7ed",
   "metadata": {},
   "source": [
    "# Multivariate Linear Data"
   ]
  },
  {
   "cell_type": "code",
   "execution_count": null,
   "id": "102ed316",
   "metadata": {
    "scrolled": false
   },
   "outputs": [],
   "source": [
    "X, y = sample_data.boston_house_data()\n",
    "fig, ax = plt.subplots(7,2, figsize=(10,10))\n",
    "ax[0][0].scatter(X[:, 0], y) #crime\n",
    "ax[0][1].scatter(X[:, 1], y) #zoning\n",
    "ax[1][0].scatter(X[:, 2], y) #industry\n",
    "ax[1][1].scatter(X[:, 3], y) #charles river\n",
    "ax[2][0].scatter(X[:, 4], y) #nox\n",
    "ax[2][1].scatter(X[:, 5], y) #number pf rooms\n",
    "ax[3][0].scatter(X[:, 6], y) #age\n",
    "ax[3][1].scatter(X[:, 7], y) #dis\n",
    "ax[4][0].scatter(X[:, 8], y) #rad\n",
    "ax[4][1].scatter(X[:, 9], y) #tax\n",
    "ax[5][0].scatter(X[:, 10], y) #ptratio\n",
    "ax[5][1].scatter(X[:, 11], y) #black\n",
    "ax[6][0].scatter(X[:, 12], y) #black"
   ]
  },
  {
   "cell_type": "code",
   "execution_count": null,
   "id": "ca7b24ac",
   "metadata": {},
   "outputs": [],
   "source": [
    "X = X[:, [0, 5]]"
   ]
  },
  {
   "cell_type": "markdown",
   "id": "53a44778",
   "metadata": {},
   "source": [
    "## Sklearn Model"
   ]
  },
  {
   "cell_type": "code",
   "execution_count": null,
   "id": "78ab6b64",
   "metadata": {},
   "outputs": [],
   "source": [
    "model_skl = linear_model.LinearRegression()\n",
    "model_skl.fit(X, y)\n",
    "print(model_skl.intercept_, model_skl.coef_)"
   ]
  },
  {
   "cell_type": "markdown",
   "id": "412d4a17",
   "metadata": {},
   "source": [
    "## Custom Class"
   ]
  },
  {
   "cell_type": "code",
   "execution_count": null,
   "id": "77cfdbae",
   "metadata": {},
   "outputs": [],
   "source": [
    "# Closed Form \n",
    "model = linear.LinearRegression()\n",
    "model.fit_closed_form(X, y)\n",
    "print(model.intercept_, model.coef_)"
   ]
  },
  {
   "cell_type": "code",
   "execution_count": null,
   "id": "9d4ba1c4",
   "metadata": {
    "scrolled": true
   },
   "outputs": [],
   "source": [
    "# Gradient Descent\n",
    "model = linear.LinearRegression()\n",
    "model.fit(X, y, lr=1e-2, n_epochs=100)\n",
    "print(model.intercept_, model.coef_)"
   ]
  },
  {
   "cell_type": "markdown",
   "id": "a0228142",
   "metadata": {},
   "source": [
    "## Plotting"
   ]
  },
  {
   "cell_type": "code",
   "execution_count": null,
   "id": "32475210",
   "metadata": {
    "scrolled": false
   },
   "outputs": [],
   "source": [
    "plt.plot(model.costs)"
   ]
  },
  {
   "cell_type": "code",
   "execution_count": null,
   "id": "699e5a43",
   "metadata": {
    "scrolled": false
   },
   "outputs": [],
   "source": [
    "y_pred = model.predict(X)\n",
    "fig, ax = plt.subplots(1,2, figsize=(10,5))\n",
    "ax[0].scatter(X[:, 0], y)\n",
    "ax[0].scatter(X[:, 0], y_pred, c=\"red\")\n",
    "ax[1].scatter(X[:, 1], y)\n",
    "ax[1].scatter(X[:, 1], y_pred, c=\"red\")"
   ]
  },
  {
   "cell_type": "markdown",
   "id": "50005f24",
   "metadata": {},
   "source": [
    "# Lasso Regression"
   ]
  },
  {
   "cell_type": "markdown",
   "id": "65ddf222",
   "metadata": {},
   "source": [
    "## SkLearn"
   ]
  },
  {
   "cell_type": "code",
   "execution_count": null,
   "id": "ecb205f4",
   "metadata": {},
   "outputs": [],
   "source": [
    "model_skl = linear_model.Lasso(alpha=0.5)\n",
    "model_skl.fit(X, y)\n",
    "print(model_skl.intercept_, model_skl.coef_)"
   ]
  },
  {
   "cell_type": "markdown",
   "id": "3b5fc538",
   "metadata": {},
   "source": [
    "## Custom"
   ]
  },
  {
   "cell_type": "code",
   "execution_count": null,
   "id": "699ef9a7",
   "metadata": {
    "scrolled": true
   },
   "outputs": [],
   "source": [
    "model = linear.LassoRegression(alpha=0)\n",
    "model.fit(X, y, lr=1e-2, n_epochs=10000, verbose=True)\n",
    "print(model.intercept_, model.coef_)"
   ]
  },
  {
   "cell_type": "code",
   "execution_count": null,
   "id": "a3ca4818",
   "metadata": {},
   "outputs": [],
   "source": []
  },
  {
   "cell_type": "markdown",
   "id": "bbcef835",
   "metadata": {},
   "source": [
    "# Ridge Regression"
   ]
  },
  {
   "cell_type": "markdown",
   "id": "32d36038",
   "metadata": {},
   "source": [
    "## SkLearn"
   ]
  },
  {
   "cell_type": "code",
   "execution_count": null,
   "id": "d49f5198",
   "metadata": {},
   "outputs": [],
   "source": [
    "model_skl = linear_model.Ridge(alpha=1)\n",
    "model_skl.fit(X, y)\n",
    "print(model_skl.intercept_, model_skl.coef_)"
   ]
  },
  {
   "cell_type": "markdown",
   "id": "5803560a",
   "metadata": {},
   "source": [
    "## Custom"
   ]
  },
  {
   "cell_type": "code",
   "execution_count": null,
   "id": "0f9b119d",
   "metadata": {
    "scrolled": true
   },
   "outputs": [],
   "source": [
    "model = linear.RidgeRegression(alpha=0.1)\n",
    "model.fit(X, y, lr=1e-2, n_epochs=1000, verbose=True)\n",
    "print(model.intercept_, model.coef_)"
   ]
  },
  {
   "cell_type": "markdown",
   "id": "bc44a5f0",
   "metadata": {},
   "source": [
    "# ElasticNet Regression"
   ]
  },
  {
   "cell_type": "markdown",
   "id": "76e96950",
   "metadata": {},
   "source": [
    "## SkLearn"
   ]
  },
  {
   "cell_type": "code",
   "execution_count": null,
   "id": "901a88cd",
   "metadata": {},
   "outputs": [],
   "source": [
    "model_skl = linear_model.ElasticNet(alpha=0.25, l1_ratio=0.5)\n",
    "model_skl.fit(X, y)\n",
    "print(model_skl.intercept_, model_skl.coef_)"
   ]
  },
  {
   "cell_type": "markdown",
   "id": "e5f58be8",
   "metadata": {},
   "source": [
    "## Custom"
   ]
  },
  {
   "cell_type": "code",
   "execution_count": null,
   "id": "be995cfa",
   "metadata": {
    "scrolled": true
   },
   "outputs": [],
   "source": [
    "model = linear.ElasticNetRegression(alpha=0.25, alpha_ratio=0.5)\n",
    "model.fit(X, y, lr=1e-2, n_epochs=1000, verbose=True)\n",
    "print(model.intercept_, model.coef_)"
   ]
  },
  {
   "cell_type": "markdown",
   "id": "36c5b3a1",
   "metadata": {},
   "source": [
    "# Visualizing Slope vs. Cost for Univariate Data"
   ]
  },
  {
   "cell_type": "code",
   "execution_count": null,
   "id": "4c6a8f14",
   "metadata": {},
   "outputs": [],
   "source": [
    "X, y = sample_data.simulate_linear_data()\n",
    "plt.scatter(X, y)"
   ]
  },
  {
   "cell_type": "code",
   "execution_count": null,
   "id": "66e936d4",
   "metadata": {
    "scrolled": false
   },
   "outputs": [],
   "source": [
    "errors = []\n",
    "\n",
    "def ssr(y, y_pred):\n",
    "    return np.sum(np.square(y_pred - y))\n",
    "\n",
    "coefs = np.arange(-5, 5, 0.2)\n",
    "intercept = 0\n",
    "\n",
    "for coef in coefs:\n",
    "    y_pred = np.dot(X, coef) + intercept\n",
    "    error = ssr(y, y_pred)\n",
    "    errors.append(error)\n",
    "\n",
    "plt.scatter(coefs, errors)\n",
    "errors = []\n",
    "coef = 0\n",
    "intercepts = np.arange(-5, 5, 0.2)\n",
    "for intercept in intercepts:\n",
    "    y_pred = np.dot(X, coef) + intercept\n",
    "    error = ssr(y, y_pred)\n",
    "    errors.append(error)\n",
    "    \n",
    "plt.scatter(intercepts, errors)"
   ]
  },
  {
   "cell_type": "markdown",
   "id": "510acd2f",
   "metadata": {},
   "source": [
    "# Hyperparameter Search"
   ]
  },
  {
   "cell_type": "code",
   "execution_count": null,
   "id": "012837e2",
   "metadata": {},
   "outputs": [],
   "source": [
    "np.random.Generator.random(10)"
   ]
  },
  {
   "cell_type": "code",
   "execution_count": null,
   "id": "6499cbd5",
   "metadata": {},
   "outputs": [],
   "source": [
    "def RandomSearchCV(X, y, model, param_range, folds):\n",
    "    param = random.sample(range(param_range[0], param_range[1]), 10)\n",
    "    train_scores = dict()\n",
    "    test_scores = dict()"
   ]
  },
  {
   "cell_type": "code",
   "execution_count": null,
   "id": "c4670723",
   "metadata": {
    "scrolled": true
   },
   "outputs": [],
   "source": [
    "X, y = sample_data.simulate_linear_data()\n",
    "model = linear.LinearRegression()\n",
    "params = {\n",
    "    'lr': [1e-1, 1e-2, 1e-3, 1e-5, 1e-8, 1e-10],\n",
    "    'n_epochs': [2,10,100,1000,10000,100000]\n",
    "}\n",
    "\n",
    "clf = GridSearchCV(model, params)\n",
    "clf.fit(X, y)"
   ]
  },
  {
   "cell_type": "code",
   "execution_count": null,
   "id": "bb771c59",
   "metadata": {},
   "outputs": [],
   "source": [
    "plt.plot(score)"
   ]
  },
  {
   "cell_type": "code",
   "execution_count": null,
   "id": "62925ab6",
   "metadata": {},
   "outputs": [],
   "source": []
  }
 ],
 "metadata": {
  "kernelspec": {
   "display_name": "Python 3 (ipykernel)",
   "language": "python",
   "name": "python3"
  },
  "language_info": {
   "codemirror_mode": {
    "name": "ipython",
    "version": 3
   },
   "file_extension": ".py",
   "mimetype": "text/x-python",
   "name": "python",
   "nbconvert_exporter": "python",
   "pygments_lexer": "ipython3",
   "version": "3.11.4"
  }
 },
 "nbformat": 4,
 "nbformat_minor": 5
}
