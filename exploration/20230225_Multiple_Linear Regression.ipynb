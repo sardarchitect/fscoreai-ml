{
 "cells": [
  {
   "cell_type": "code",
   "execution_count": 1,
   "id": "f1c1b050",
   "metadata": {},
   "outputs": [],
   "source": [
    "import sys\n",
    "sys.path.append(\"/mnt/d/00_SARDARCHITECTLABS/projects/fscoreai-ml/\")\n",
    "\n",
    "import pandas as pd\n",
    "import numpy as np\n",
    "import matplotlib.pyplot as plt"
   ]
  },
  {
   "cell_type": "markdown",
   "id": "38eae9b5",
   "metadata": {},
   "source": [
    "## Multi-Dimensional Data"
   ]
  },
  {
   "cell_type": "code",
   "execution_count": 2,
   "id": "e8e691ac",
   "metadata": {},
   "outputs": [],
   "source": [
    "from fscoreai.utils import utils"
   ]
  },
  {
   "cell_type": "code",
   "execution_count": 4,
   "id": "24d2bb44",
   "metadata": {
    "scrolled": true
   },
   "outputs": [
    {
     "name": "stdout",
     "output_type": "stream",
     "text": [
      "(21613, 2) (21613,)\n"
     ]
    }
   ],
   "source": [
    "X, y = utils.get_data(name='kc_house_data')\n",
    "print(X.shape, y.shape)"
   ]
  },
  {
   "cell_type": "markdown",
   "id": "9a6c288f",
   "metadata": {},
   "source": [
    "## Using sklearn for testing"
   ]
  },
  {
   "cell_type": "code",
   "execution_count": 5,
   "id": "da216bb7",
   "metadata": {},
   "outputs": [],
   "source": [
    "from sklearn.linear_model import LinearRegression"
   ]
  },
  {
   "cell_type": "code",
   "execution_count": 65,
   "id": "ca31a414",
   "metadata": {},
   "outputs": [
    {
     "name": "stdout",
     "output_type": "stream",
     "text": [
      "[   313.94868588 -57066.75892292] 79469.35907477367\n"
     ]
    }
   ],
   "source": [
    "model_sklearn = LinearRegression(fit_intercept=True)\n",
    "model_sklearn.fit(X,y)\n",
    "print(model_sklearn.coef_, model_sklearn.intercept_)"
   ]
  },
  {
   "cell_type": "markdown",
   "id": "15bb1b0f",
   "metadata": {},
   "source": [
    "## Fscore AI Library Model"
   ]
  },
  {
   "cell_type": "code",
   "execution_count": 109,
   "id": "85684745",
   "metadata": {},
   "outputs": [],
   "source": [
    "class MultiLinearRegression():\n",
    "    def __init__(self):\n",
    "        pass\n",
    "        \n",
    "    def fit(self, X, y, fit_type = 'stat', lr=1e-8, epochs=50):\n",
    "        n, d = X.shape[0], X.shape[1]\n",
    "        self.coef_ = np.zeros(d)\n",
    "        self.intercept_ = 0        \n",
    "        if (fit_type == 'stat'):    #Evaluate closed-form solution\n",
    "            X = np.hstack((np.ones((X.shape[0],1)), X))\n",
    "            beta = np.linalg.inv(np.dot(X.T, X)).dot(np.dot(X.T,y))\n",
    "            self.intercept_ = beta[0]\n",
    "            self.coef_ = beta[1:]\n",
    "            return self\n",
    "\n",
    "        if (fit_type == 'grad'): # Evaluate gradient descent solution:\n",
    "            n, d = X.shape[0], X.shape[1]\n",
    "            self.coef_ = np.zeros(d)\n",
    "            self.intercept_ = 0        \n",
    "            self.lr = lr  #   Learning rate\n",
    "            self.epochs = epochs\n",
    "            \n",
    "            for epoch in range(self.epochs):\n",
    "                for j in range(d):\n",
    "                    x = X[:, j]\n",
    "                    y_pred = np.dot(x, self.coef_[j]) + self.intercept_\n",
    "            return self\n",
    "\n",
    "    def predict(self, X):\n",
    "        return np.dot(X, self.coef_) + self.intercept_"
   ]
  },
  {
   "cell_type": "markdown",
   "id": "1c770bfb",
   "metadata": {},
   "source": [
    "model_fscore_1 = MultiLinearRegression()\n",
    "model_fscore_1.fit(X,y, fit_type='stat')\n",
    "print(model_fscore_1.coef_, model_fscore_1.intercept_)"
   ]
  },
  {
   "cell_type": "code",
   "execution_count": 110,
   "id": "26a8a6b3",
   "metadata": {
    "scrolled": false
   },
   "outputs": [
    {
     "name": "stdout",
     "output_type": "stream",
     "text": [
      "[106.20121138   0.19258316] 0.09602692116545637\n"
     ]
    }
   ],
   "source": [
    "model_fscore_2 = MultiLinearRegression()\n",
    "model_fscore_2.fit(X, y, fit_type='grad', lr=1e-11, epochs=10000)\n",
    "print(model_fscore_2.coef_, model_fscore_2.intercept_)"
   ]
  },
  {
   "cell_type": "markdown",
   "id": "371f4e3f",
   "metadata": {},
   "source": [
    "## Plotting the models"
   ]
  },
  {
   "cell_type": "code",
   "execution_count": 30,
   "id": "f843d4ca",
   "metadata": {},
   "outputs": [],
   "source": [
    "preds_sklearn = model_sklearn.predict(X)\n",
    "preds_fscore_1 = model_fscore_1.predict(X)\n",
    "preds_fscore_2 = model_fscore_2.predict(X)"
   ]
  },
  {
   "cell_type": "code",
   "execution_count": 31,
   "id": "6d7b373c",
   "metadata": {},
   "outputs": [
    {
     "data": {
      "text/plain": [
       "[<matplotlib.lines.Line2D at 0x7fbfdd2cb5b0>]"
      ]
     },
     "execution_count": 31,
     "metadata": {},
     "output_type": "execute_result"
    },
    {
     "data": {
      "image/png": "[encoded data removed]",
      "text/plain": [
       "<Figure size 640x480 with 1 Axes>"
      ]
     },
     "metadata": {},
     "output_type": "display_data"
    }
   ],
   "source": [
    "plt.scatter(X, y)\n",
    "plt.plot(X, preds_sklearn, color='red')\n",
    "plt.plot(X, preds_fscore_1, color='yellow')\n",
    "plt.plot(X, preds_fscore_2, color='green')"
   ]
  }
 ],
 "metadata": {
  "kernelspec": {
   "display_name": "Python 3 (ipykernel)",
   "language": "python",
   "name": "python3"
  },
  "language_info": {
   "codemirror_mode": {
    "name": "ipython",
    "version": 3
   },
   "file_extension": ".py",
   "mimetype": "text/x-python",
   "name": "python",
   "nbconvert_exporter": "python",
   "pygments_lexer": "ipython3",
   "version": "3.10.9"
  }
 },
 "nbformat": 4,
 "nbformat_minor": 5
}
