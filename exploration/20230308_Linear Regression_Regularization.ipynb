{
 "cells": [
  {
   "cell_type": "code",
   "execution_count": 1,
   "id": "f1c1b050",
   "metadata": {},
   "outputs": [],
   "source": [
    "import sys\n",
    "sys.path.append(\"/mnt/d/00_SARDARCHITECTLABS/projects/fscoreai-ml/\")\n",
    "\n",
    "import pandas as pd\n",
    "import numpy as np\n",
    "import matplotlib.pyplot as plt"
   ]
  },
  {
   "cell_type": "markdown",
   "id": "38eae9b5",
   "metadata": {},
   "source": [
    "## Get Data"
   ]
  },
  {
   "cell_type": "code",
   "execution_count": 2,
   "id": "e8e691ac",
   "metadata": {},
   "outputs": [],
   "source": [
    "from fscoreai.utils import utils"
   ]
  },
  {
   "cell_type": "code",
   "execution_count": 3,
   "id": "2837be18",
   "metadata": {},
   "outputs": [
    {
     "name": "stdout",
     "output_type": "stream",
     "text": [
      "(1000, 1) (1000,)\n"
     ]
    }
   ],
   "source": [
    "X,y = utils.get_data(name='kc_house_data')\n",
    "X, y  = X[:1000], y[:1000]\n",
    "print(X.shape, y.shape)"
   ]
  },
  {
   "cell_type": "markdown",
   "id": "9a6c288f",
   "metadata": {},
   "source": [
    "## Using sklearn for testing"
   ]
  },
  {
   "cell_type": "code",
   "execution_count": 4,
   "id": "da216bb7",
   "metadata": {},
   "outputs": [],
   "source": [
    "from sklearn.linear_model import Ridge"
   ]
  },
  {
   "cell_type": "code",
   "execution_count": 5,
   "id": "ca31a414",
   "metadata": {},
   "outputs": [
    {
     "name": "stdout",
     "output_type": "stream",
     "text": [
      "[269.46205434] -32304.654019277717\n"
     ]
    }
   ],
   "source": [
    "model_sklearn = Ridge(fit_intercept=True, alpha=1.0)\n",
    "model_sklearn.fit(X,y)\n",
    "print(model_sklearn.coef_, model_sklearn.intercept_)"
   ]
  },
  {
   "cell_type": "markdown",
   "id": "15bb1b0f",
   "metadata": {},
   "source": [
    "## Fscore AI Library Model"
   ]
  },
  {
   "cell_type": "code",
   "execution_count": 18,
   "id": "febc261a",
   "metadata": {},
   "outputs": [],
   "source": [
    "class SimpleLinearRegression():\n",
    "    def __init__(self):\n",
    "        self.coef_ = 0\n",
    "        self.intercept_ = 0\n",
    "\n",
    "    def fit(self, X, y, fit_type = 'stat', lr=1e-8, epochs=50):    \n",
    "        if (fit_type == 'stat'):\n",
    "            X_mean = np.mean(X, axis=0)\n",
    "            y_mean = np.mean(y)\n",
    "            self.coef_ = np.sum((X - X_mean).T*(y-y_mean), axis=1)/(np.sum((X - X_mean)**2, axis=0)) \n",
    "            self.intercept_ = y_mean - (self.coef_ * X_mean)\n",
    "            return self\n",
    "        \n",
    "        if (fit_type == 'grad'):\n",
    "            self.alpha = alpha  #   Learning rate\n",
    "            self.epochs = epochs\n",
    "            self.n, self.d = X.shape\n",
    "\n",
    "            for epoch in range(self.epochs):\n",
    "                y_pred = self.predict(X)\n",
    "                d_coef = - (1 / self.n) * np.sum((y - y_pred).dot(X)) #Derivative w.r.t. self.coef_\n",
    "                d_intercept = - (1 / self.n) * np.sum(y - y_pred) #Derivative w.r.t. self.intercept_\n",
    "                self.coef_ -=  self.alpha * d_coef          #    Update self.coef_ \n",
    "                self.intercept_ -=  self.alpha * d_intercept  #    Update self.intercept_\n",
    "            return self\n",
    "\n",
    "    def predict(self, X):\n",
    "        return np.dot(X, self.coef_) + self.intercept_"
   ]
  },
  {
   "cell_type": "code",
   "execution_count": null,
   "id": "4b5a5b21",
   "metadata": {},
   "outputs": [],
   "source": [
    "class RidgeRegression():\n",
    "    def __init__(self):\n",
    "        self.coef_ = 0\n",
    "        self.intercept_ = 0\n",
    "\n",
    "    def fit(self, X, y, fit_type = 'stat', lr=1e-8, epochs=50, alpha=1.0):    \n",
    "\n",
    "        if (fit_type == 'stat'):\n",
    "            A = np.identity(d)\n",
    "            A[0,0] = 0\n",
    "            A_biased = self.alpha = \n",
    "            X_mean = np.mean(X, axis=0)\n",
    "            y_mean = np.mean(y)\n",
    "            self.coef_ = np.sum((X - X_mean).T*(y-y_mean), axis=1)/(np.sum((X - X_mean)**2, axis=0)) \n",
    "            self.intercept_ = y_mean - (self.coef_ * X_mean)\n",
    "        \n",
    "        if (fit_type == 'grad'):\n",
    "            self.alpha = alpha  #   Learning rate\n",
    "            self.epochs = epochs\n",
    "            self.penalty = penalty\n",
    "            self.n, self.d = X.shape\n",
    "\n",
    "            for epoch in range(self.epochs):\n",
    "                y_pred = self.predict(X)\n",
    "                d_coef = - (1 / self.n) * np.sum((y - y_pred).dot(X)) #Derivative w.r.t. self.coef_\n",
    "                d_intercept = - (1 / self.n) * np.sum(y - y_pred) #Derivative w.r.t. self.intercept_\n",
    "                self.coef_ -=  self.alpha * d_coef          #    Update self.coef_ \n",
    "                self.intercept_ -=  self.alpha * d_intercept  #    Update self.intercept_\n",
    "            return self\n",
    "\n",
    "    def predict(self, X):\n",
    "        return np.dot(X, self.coef_) + self.intercept_"
   ]
  },
  {
   "cell_type": "code",
   "execution_count": 7,
   "id": "5c054867",
   "metadata": {},
   "outputs": [
    {
     "name": "stdout",
     "output_type": "stream",
     "text": [
      "[269.46205468] [-32304.65472103]\n"
     ]
    }
   ],
   "source": [
    "model_fscore_1 = linear_regression.SimpleLinearRegression()\n",
    "model_fscore_1.fit(X,y, fit_type='stat')\n",
    "print(model_fscore_1.coef_, model_fscore_1.intercept_)"
   ]
  },
  {
   "cell_type": "code",
   "execution_count": 8,
   "id": "26a8a6b3",
   "metadata": {
    "scrolled": true
   },
   "outputs": [
    {
     "name": "stdout",
     "output_type": "stream",
     "text": [
      "304.15144604552836 10.19867691045192\n"
     ]
    }
   ],
   "source": [
    "model_fscore_2 = linear_regression.SimpleLinearRegression()\n",
    "model_fscore_2.fit(X,y, fit_type='grad', alpha=1e-11, epochs=10000)\n",
    "print(model_fscore_2.coef_, model_fscore_2.intercept_)"
   ]
  },
  {
   "cell_type": "markdown",
   "id": "371f4e3f",
   "metadata": {},
   "source": [
    "## Plotting the models"
   ]
  },
  {
   "cell_type": "code",
   "execution_count": 9,
   "id": "f843d4ca",
   "metadata": {},
   "outputs": [],
   "source": [
    "preds_sklearn = model_sklearn.predict(X)\n",
    "preds_fscore_1 = model_fscore_1.predict(X)\n",
    "preds_fscore_2 = model_fscore_2.predict(X)"
   ]
  },
  {
   "cell_type": "code",
   "execution_count": 12,
   "id": "6d7b373c",
   "metadata": {},
   "outputs": [
    {
     "data": {
      "text/plain": [
       "[<matplotlib.lines.Line2D at 0x7f5790dd5840>]"
      ]
     },
     "execution_count": 12,
     "metadata": {},
     "output_type": "execute_result"
    },
    {
     "data": {
      "image/png": "[encoded data removed]",
      "text/plain": [
       "<Figure size 640x480 with 1 Axes>"
      ]
     },
     "metadata": {},
     "output_type": "display_data"
    }
   ],
   "source": [
    "plt.scatter(X, y)\n",
    "plt.plot(X, preds_sklearn, color='red')\n",
    "plt.plot(X, preds_fscore_1, color='yellow')\n",
    "plt.plot(X, preds_fscore_2, color='green')"
   ]
  },
  {
   "cell_type": "code",
   "execution_count": null,
   "id": "d93870eb",
   "metadata": {},
   "outputs": [],
   "source": []
  }
 ],
 "metadata": {
  "kernelspec": {
   "display_name": "Python 3 (ipykernel)",
   "language": "python",
   "name": "python3"
  },
  "language_info": {
   "codemirror_mode": {
    "name": "ipython",
    "version": 3
   },
   "file_extension": ".py",
   "mimetype": "text/x-python",
   "name": "python",
   "nbconvert_exporter": "python",
   "pygments_lexer": "ipython3",
   "version": "3.10.9"
  }
 },
 "nbformat": 4,
 "nbformat_minor": 5
}
