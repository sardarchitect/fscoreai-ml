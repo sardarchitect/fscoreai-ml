{
 "cells": [
  {
   "cell_type": "code",
   "execution_count": 1,
   "id": "f1c1b050",
   "metadata": {},
   "outputs": [],
   "source": [
    "import sys\n",
    "sys.path.append(\"D:\\\\00_SARDARCHITECTLABS\\\\projects\\\\fscoreai-ml\")\n",
    "import pandas as pd\n",
    "import numpy as np\n",
    "import matplotlib.pyplot as plt\n",
    "from fscoreai.linear_model import linear_regression\n",
    "from sklearn.linear_model import LinearRegression"
   ]
  },
  {
   "cell_type": "markdown",
   "id": "38eae9b5",
   "metadata": {},
   "source": [
    "## Get Data"
   ]
  },
  {
   "cell_type": "code",
   "execution_count": 2,
   "id": "5a92e98e",
   "metadata": {},
   "outputs": [],
   "source": [
    "path = '../datasets/kc_house_data.csv'\n",
    "data_df = pd.read_csv(path)\n",
    "X = data_df[[\"sqft_living\", \"sqft_basement\"]].to_numpy()\n",
    "y = data_df[\"price\"].to_numpy()"
   ]
  },
  {
   "cell_type": "code",
   "execution_count": 18,
   "id": "17ae77d9",
   "metadata": {},
   "outputs": [],
   "source": [
    "X = np.array([[1,3],[3,7],[5,11]])\n",
    "y = np.array([[4],[10],[16]])"
   ]
  },
  {
   "cell_type": "markdown",
   "id": "15bb1b0f",
   "metadata": {},
   "source": [
    "## Statistical"
   ]
  },
  {
   "cell_type": "code",
   "execution_count": 26,
   "id": "f3ea43c2",
   "metadata": {},
   "outputs": [
    {
     "name": "stdout",
     "output_type": "stream",
     "text": [
      "Coef: [0. 0.]\n",
      "Feature: 0\n",
      "Feature: 1\n",
      "[3.  1.5]\n"
     ]
    }
   ],
   "source": [
    "def fit(X, y):\n",
    "    n = X.shape[0]\n",
    "    d = X.shape[1]\n",
    "    coef_ = np.zeros(d)\n",
    "    intercept_ =  0\n",
    "    print(\"Coef:\", coef_)\n",
    "    for j in range(d):\n",
    "        print(\"Feature:\", j)\n",
    "        X_mean = np.mean(X[:,j])\n",
    "        y_mean = np.mean(y)\n",
    "        num = 0\n",
    "        den = 0\n",
    "        for i in range(n):\n",
    "            num += (X[i,j] - X_mean) * (y[i] - y_mean)\n",
    "            den += (X[i,j] - X_mean)**2\n",
    "#             print(num, den)\n",
    "        coef_[j] = num / den\n",
    "    return coef_\n",
    "print(fit(X,y))"
   ]
  },
  {
   "cell_type": "code",
   "execution_count": 27,
   "id": "b924987b",
   "metadata": {},
   "outputs": [],
   "source": [
    "lr_1 = LinearRegression(fit_intercept=True)\n",
    "lr_1.fit(X,y)\n",
    "\n",
    "preds_1 = lr_1.predict(X)"
   ]
  },
  {
   "cell_type": "code",
   "execution_count": 25,
   "id": "ed0391d2",
   "metadata": {},
   "outputs": [
    {
     "name": "stdout",
     "output_type": "stream",
     "text": [
      "[[0.6 1.2]] [-0.2]\n"
     ]
    }
   ],
   "source": [
    "print(lr_1.coef_, lr_1.intercept_)"
   ]
  },
  {
   "cell_type": "code",
   "execution_count": null,
   "id": "bfb03a78",
   "metadata": {},
   "outputs": [],
   "source": []
  },
  {
   "cell_type": "code",
   "execution_count": null,
   "id": "af54d712",
   "metadata": {},
   "outputs": [],
   "source": []
  }
 ],
 "metadata": {
  "kernelspec": {
   "display_name": "Python 3 (ipykernel)",
   "language": "python",
   "name": "python3"
  },
  "language_info": {
   "codemirror_mode": {
    "name": "ipython",
    "version": 3
   },
   "file_extension": ".py",
   "mimetype": "text/x-python",
   "name": "python",
   "nbconvert_exporter": "python",
   "pygments_lexer": "ipython3",
   "version": "3.10.4"
  }
 },
 "nbformat": 4,
 "nbformat_minor": 5
}
