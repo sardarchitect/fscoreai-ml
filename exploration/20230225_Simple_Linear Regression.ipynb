{
 "cells": [
  {
   "cell_type": "markdown",
   "id": "4010f7b0",
   "metadata": {},
   "source": [
    "# Imports"
   ]
  },
  {
   "cell_type": "code",
   "execution_count": 1,
   "id": "f1c1b050",
   "metadata": {},
   "outputs": [],
   "source": [
    "import sys\n",
    "import os\n",
    "sys.path.append(\"/home/sardarchitect/repos/fscoreai-ml\")\n",
    "\n",
    "import pandas as pd\n",
    "import numpy as np\n",
    "import matplotlib.pyplot as plt"
   ]
  },
  {
   "cell_type": "code",
   "execution_count": 2,
   "id": "e8e691ac",
   "metadata": {},
   "outputs": [],
   "source": [
    "from fscoreai.utils import utils\n",
    "from fscoreai.loss import loss\n",
    "from sample_data import sample_data"
   ]
  },
  {
   "cell_type": "code",
   "execution_count": 3,
   "id": "82ebbe89",
   "metadata": {},
   "outputs": [],
   "source": [
    "from sklearn.preprocessing import normalize\n",
    "from sklearn.linear_model import LinearRegression"
   ]
  },
  {
   "cell_type": "markdown",
   "id": "38eae9b5",
   "metadata": {},
   "source": [
    "# One-Dimensional Data"
   ]
  },
  {
   "cell_type": "code",
   "execution_count": 4,
   "id": "24d2bb44",
   "metadata": {
    "scrolled": true
   },
   "outputs": [
    {
     "name": "stdout",
     "output_type": "stream",
     "text": [
      "(100, 1) (100, 1)\n"
     ]
    }
   ],
   "source": [
    "X, y = sample_data.simulate_linear_data()\n",
    "print(X.shape, y.shape)"
   ]
  },
  {
   "cell_type": "code",
   "execution_count": 5,
   "id": "04d1c95c",
   "metadata": {},
   "outputs": [
    {
     "data": {
      "text/plain": [
       "<matplotlib.collections.PathCollection at 0x7f7c2ceacb90>"
      ]
     },
     "execution_count": 5,
     "metadata": {},
     "output_type": "execute_result"
    },
    {
     "data": {
      "image/png": "[encoded data removed]",
      "text/plain": [
       "<Figure size 640x480 with 1 Axes>"
      ]
     },
     "metadata": {},
     "output_type": "display_data"
    }
   ],
   "source": [
    "plt.scatter(X, y)"
   ]
  },
  {
   "cell_type": "markdown",
   "id": "9a6c288f",
   "metadata": {},
   "source": [
    "## SimpleLinear Regression with SkLearn"
   ]
  },
  {
   "cell_type": "code",
   "execution_count": 6,
   "id": "ca31a414",
   "metadata": {},
   "outputs": [
    {
     "name": "stdout",
     "output_type": "stream",
     "text": [
      "[[2.06896634]] [0.91359357]\n"
     ]
    }
   ],
   "source": [
    "model_sklearn = LinearRegression(fit_intercept=True)\n",
    "model_sklearn.fit(X,y)\n",
    "print(model_sklearn.coef_, model_sklearn.intercept_)"
   ]
  },
  {
   "cell_type": "code",
   "execution_count": 11,
   "id": "84120b9f",
   "metadata": {},
   "outputs": [
    {
     "data": {
      "text/plain": [
       "(100, 1)"
      ]
     },
     "execution_count": 11,
     "metadata": {},
     "output_type": "execute_result"
    }
   ],
   "source": [
    "model_sklearn.predict(X).shape"
   ]
  },
  {
   "cell_type": "markdown",
   "id": "15bb1b0f",
   "metadata": {},
   "source": [
    "## Custom Simple Linear Regression"
   ]
  },
  {
   "cell_type": "code",
   "execution_count": 7,
   "id": "85684745",
   "metadata": {},
   "outputs": [],
   "source": [
    "class SimpleLinearRegression():\n",
    "    def __init__(self):\n",
    "        self.coef_ = 0\n",
    "        self.intercept_ = 0\n",
    "    \n",
    "    def fit_stat(self, X, y):\n",
    "        # Closed-form Solution\n",
    "            X_mean = np.mean(X, axis=0)\n",
    "            y_mean = np.mean(y)\n",
    "            self.coef_ = np.sum((X - X_mean).T*(y-y_mean), axis=1)/(np.sum((X - X_mean)**2, axis=0)) \n",
    "            self.intercept_ = y_mean - (self.coef_ * X_mean)\n",
    "            return self\n",
    "    \n",
    "    def fit_grad(self, X, y, lr=1e-8, epochs=50):\n",
    "        # Batch Gradient Descent Solution\n",
    "            self.lr = lr  #   Learning rate\n",
    "            self.epochs = epochs\n",
    "            self.n, self.d = X.shape\n",
    "            \n",
    "            for epoch in range(self.epochs):\n",
    "                for j in range(self.d):\n",
    "                    y_pred = self.predict(X)\n",
    "                    d_coef = - (2 / self.n) * np.sum((y - y_pred).dot(X[:,j])) #Derivative w.r.t. self.coef_\n",
    "                    d_intercept = - (2 / self.n) * np.sum(y - y_pred) #Derivative w.r.t. self.intercept_\n",
    "                    self.coef_ -=  self.lr * d_coef          #    Update self.coef_ \n",
    "                    self.intercept_ -=  self.lr * d_intercept  #    Update self.intercept_\n",
    "            return self\n",
    "        \n",
    "    def predict(self, X):\n",
    "        return np.dot(X, self.coef_) + self.intercept_"
   ]
  },
  {
   "cell_type": "code",
   "execution_count": 8,
   "id": "5c054867",
   "metadata": {},
   "outputs": [
    {
     "name": "stdout",
     "output_type": "stream",
     "text": [
      "[-3.39530384e-16 -4.63589563e-16 -2.61177218e-16 -6.85590198e-17\n",
      " -4.76648424e-16 -3.26471523e-16 -1.71397550e-17 -1.92618199e-16\n",
      " -4.83177854e-16 -2.38324212e-16 -4.37471841e-16 -5.61531020e-16\n",
      " -2.28530066e-16 -7.05178490e-16 -7.31296212e-16 -4.17883550e-16\n",
      " -4.17883550e-16 -1.86088768e-16 -5.35413298e-16 -6.79060768e-16\n",
      "  7.83531655e-17 -2.74236079e-16 -2.18735920e-16 -5.74589881e-16\n",
      " -3.26471523e-16 -1.63235762e-16 -4.04824689e-16 -8.32502384e-17\n",
      " -3.39530384e-16 -2.35059497e-16 -3.06883232e-16  3.52589245e-16\n",
      " -1.56706331e-16 -3.98295258e-16  6.52943046e-17 -4.57060132e-16\n",
      " -6.52943046e-17 -5.48472159e-16 -4.17883550e-16 -3.10147947e-17\n",
      "  8.81473112e-17 -1.71397550e-17 -6.85590198e-17 -8.32502384e-17\n",
      " -4.04824689e-16 -1.79559338e-16 -1.09367960e-16  2.41588927e-16\n",
      "  1.02838530e-16 -5.02766146e-16  1.07735603e-16 -5.30516225e-17\n",
      " -9.95738145e-17  1.69765192e-16  2.15471205e-16  2.28530066e-16\n",
      " -1.12632675e-16  2.20368278e-17  2.15471205e-16  3.65648106e-16\n",
      "  1.32629056e-17  9.95738145e-17 -1.22426821e-16 -1.14265033e-16\n",
      "  2.80765510e-16  4.83177854e-16  1.17529748e-16  3.72177536e-16\n",
      "  3.13412662e-16  4.73383708e-17  2.41588927e-16  7.44355073e-16\n",
      "  2.38324212e-16  7.05178490e-16 -3.39530384e-16  4.63589563e-16\n",
      "  3.98295258e-16  2.41588927e-16  3.46059814e-16 -1.95882914e-16\n",
      "  2.61177218e-16  4.04824689e-16  6.39884185e-16  1.76294622e-16\n",
      "  1.76294622e-16  2.41588927e-16  6.00707602e-16  3.78706967e-16\n",
      "  2.80765510e-16  4.96236715e-16  4.04824689e-16  7.31296212e-16\n",
      "  2.41588927e-16  3.26471523e-16  1.50176901e-16  1.07735603e-16\n",
      "  6.39884185e-16  5.22354437e-16  5.48472159e-16  4.50530702e-16] [1.94807674 1.94807674 1.94807674 1.94807674 1.94807674 1.94807674\n",
      " 1.94807674 1.94807674 1.94807674 1.94807674 1.94807674 1.94807674\n",
      " 1.94807674 1.94807674 1.94807674 1.94807674 1.94807674 1.94807674\n",
      " 1.94807674 1.94807674 1.94807674 1.94807674 1.94807674 1.94807674\n",
      " 1.94807674 1.94807674 1.94807674 1.94807674 1.94807674 1.94807674\n",
      " 1.94807674 1.94807674 1.94807674 1.94807674 1.94807674 1.94807674\n",
      " 1.94807674 1.94807674 1.94807674 1.94807674 1.94807674 1.94807674\n",
      " 1.94807674 1.94807674 1.94807674 1.94807674 1.94807674 1.94807674\n",
      " 1.94807674 1.94807674 1.94807674 1.94807674 1.94807674 1.94807674\n",
      " 1.94807674 1.94807674 1.94807674 1.94807674 1.94807674 1.94807674\n",
      " 1.94807674 1.94807674 1.94807674 1.94807674 1.94807674 1.94807674\n",
      " 1.94807674 1.94807674 1.94807674 1.94807674 1.94807674 1.94807674\n",
      " 1.94807674 1.94807674 1.94807674 1.94807674 1.94807674 1.94807674\n",
      " 1.94807674 1.94807674 1.94807674 1.94807674 1.94807674 1.94807674\n",
      " 1.94807674 1.94807674 1.94807674 1.94807674 1.94807674 1.94807674\n",
      " 1.94807674 1.94807674 1.94807674 1.94807674 1.94807674 1.94807674\n",
      " 1.94807674 1.94807674 1.94807674 1.94807674]\n"
     ]
    }
   ],
   "source": [
    "# Using Closed-form Solution\n",
    "model_fscore_1 = SimpleLinearRegression()\n",
    "model_fscore_1.fit_stat(X,y)\n",
    "print(model_fscore_1.coef_, model_fscore_1.intercept_)"
   ]
  },
  {
   "cell_type": "code",
   "execution_count": 9,
   "id": "26a8a6b3",
   "metadata": {
    "scrolled": true
   },
   "outputs": [
    {
     "ename": "ValueError",
     "evalue": "shapes (100,1) and (100,) not aligned: 1 (dim 1) != 100 (dim 0)",
     "output_type": "error",
     "traceback": [
      "\u001b[0;31m---------------------------------------------------------------------------\u001b[0m",
      "\u001b[0;31mValueError\u001b[0m                                Traceback (most recent call last)",
      "Cell \u001b[0;32mIn[9], line 3\u001b[0m\n\u001b[1;32m      1\u001b[0m \u001b[38;5;66;03m# Using Batch Gradient Descent Solution\u001b[39;00m\n\u001b[1;32m      2\u001b[0m model_fscore_2 \u001b[38;5;241m=\u001b[39m SimpleLinearRegression()\n\u001b[0;32m----> 3\u001b[0m \u001b[43mmodel_fscore_2\u001b[49m\u001b[38;5;241;43m.\u001b[39;49m\u001b[43mfit_grad\u001b[49m\u001b[43m(\u001b[49m\u001b[43mX\u001b[49m\u001b[43m,\u001b[49m\u001b[43my\u001b[49m\u001b[43m,\u001b[49m\u001b[43mlr\u001b[49m\u001b[38;5;241;43m=\u001b[39;49m\u001b[38;5;241;43m1e-6\u001b[39;49m\u001b[43m,\u001b[49m\u001b[43m \u001b[49m\u001b[43mepochs\u001b[49m\u001b[38;5;241;43m=\u001b[39;49m\u001b[38;5;241;43m10000\u001b[39;49m\u001b[43m)\u001b[49m\n\u001b[1;32m      4\u001b[0m \u001b[38;5;28mprint\u001b[39m(model_fscore_2\u001b[38;5;241m.\u001b[39mcoef_, model_fscore_2\u001b[38;5;241m.\u001b[39mintercept_)\n",
      "Cell \u001b[0;32mIn[7], line 23\u001b[0m, in \u001b[0;36mSimpleLinearRegression.fit_grad\u001b[0;34m(self, X, y, lr, epochs)\u001b[0m\n\u001b[1;32m     21\u001b[0m \u001b[38;5;28;01mfor\u001b[39;00m j \u001b[38;5;129;01min\u001b[39;00m \u001b[38;5;28mrange\u001b[39m(\u001b[38;5;28mself\u001b[39m\u001b[38;5;241m.\u001b[39md):\n\u001b[1;32m     22\u001b[0m     y_pred \u001b[38;5;241m=\u001b[39m \u001b[38;5;28mself\u001b[39m\u001b[38;5;241m.\u001b[39mpredict(X)\n\u001b[0;32m---> 23\u001b[0m     d_coef \u001b[38;5;241m=\u001b[39m \u001b[38;5;241m-\u001b[39m (\u001b[38;5;241m2\u001b[39m \u001b[38;5;241m/\u001b[39m \u001b[38;5;28mself\u001b[39m\u001b[38;5;241m.\u001b[39mn) \u001b[38;5;241m*\u001b[39m np\u001b[38;5;241m.\u001b[39msum(\u001b[43m(\u001b[49m\u001b[43my\u001b[49m\u001b[43m \u001b[49m\u001b[38;5;241;43m-\u001b[39;49m\u001b[43m \u001b[49m\u001b[43my_pred\u001b[49m\u001b[43m)\u001b[49m\u001b[38;5;241;43m.\u001b[39;49m\u001b[43mdot\u001b[49m\u001b[43m(\u001b[49m\u001b[43mX\u001b[49m\u001b[43m[\u001b[49m\u001b[43m:\u001b[49m\u001b[43m,\u001b[49m\u001b[43mj\u001b[49m\u001b[43m]\u001b[49m\u001b[43m)\u001b[49m) \u001b[38;5;66;03m#Derivative w.r.t. self.coef_\u001b[39;00m\n\u001b[1;32m     24\u001b[0m     d_intercept \u001b[38;5;241m=\u001b[39m \u001b[38;5;241m-\u001b[39m (\u001b[38;5;241m2\u001b[39m \u001b[38;5;241m/\u001b[39m \u001b[38;5;28mself\u001b[39m\u001b[38;5;241m.\u001b[39mn) \u001b[38;5;241m*\u001b[39m np\u001b[38;5;241m.\u001b[39msum(y \u001b[38;5;241m-\u001b[39m y_pred) \u001b[38;5;66;03m#Derivative w.r.t. self.intercept_\u001b[39;00m\n\u001b[1;32m     25\u001b[0m     \u001b[38;5;28mself\u001b[39m\u001b[38;5;241m.\u001b[39mcoef_ \u001b[38;5;241m-\u001b[39m\u001b[38;5;241m=\u001b[39m  \u001b[38;5;28mself\u001b[39m\u001b[38;5;241m.\u001b[39mlr \u001b[38;5;241m*\u001b[39m d_coef          \u001b[38;5;66;03m#    Update self.coef_ \u001b[39;00m\n",
      "\u001b[0;31mValueError\u001b[0m: shapes (100,1) and (100,) not aligned: 1 (dim 1) != 100 (dim 0)"
     ]
    }
   ],
   "source": [
    "# Using Batch Gradient Descent Solution\n",
    "model_fscore_2 = SimpleLinearRegression()\n",
    "model_fscore_2.fit_grad(X,y,lr=1e-6, epochs=10000)\n",
    "print(model_fscore_2.coef_, model_fscore_2.intercept_)"
   ]
  },
  {
   "cell_type": "markdown",
   "id": "371f4e3f",
   "metadata": {},
   "source": [
    "## Plotting the models"
   ]
  },
  {
   "cell_type": "code",
   "execution_count": 10,
   "id": "6d7b373c",
   "metadata": {
    "scrolled": false
   },
   "outputs": [
    {
     "ename": "ValueError",
     "evalue": "shapes (100,1) and (100,) not aligned: 1 (dim 1) != 100 (dim 0)",
     "output_type": "error",
     "traceback": [
      "\u001b[0;31m---------------------------------------------------------------------------\u001b[0m",
      "\u001b[0;31mValueError\u001b[0m                                Traceback (most recent call last)",
      "Cell \u001b[0;32mIn[10], line 2\u001b[0m\n\u001b[1;32m      1\u001b[0m preds_sklearn \u001b[38;5;241m=\u001b[39m model_sklearn\u001b[38;5;241m.\u001b[39mpredict(X)\n\u001b[0;32m----> 2\u001b[0m preds_fscore_1 \u001b[38;5;241m=\u001b[39m \u001b[43mmodel_fscore_1\u001b[49m\u001b[38;5;241;43m.\u001b[39;49m\u001b[43mpredict\u001b[49m\u001b[43m(\u001b[49m\u001b[43mX\u001b[49m\u001b[43m)\u001b[49m\n\u001b[1;32m      3\u001b[0m preds_fscore_2 \u001b[38;5;241m=\u001b[39m model_fscore_2\u001b[38;5;241m.\u001b[39mpredict(X)\n\u001b[1;32m      5\u001b[0m plt\u001b[38;5;241m.\u001b[39mfigure(figsize\u001b[38;5;241m=\u001b[39m(\u001b[38;5;241m10\u001b[39m,\u001b[38;5;241m4\u001b[39m))\n",
      "Cell \u001b[0;32mIn[7], line 30\u001b[0m, in \u001b[0;36mSimpleLinearRegression.predict\u001b[0;34m(self, X)\u001b[0m\n\u001b[1;32m     29\u001b[0m \u001b[38;5;28;01mdef\u001b[39;00m \u001b[38;5;21mpredict\u001b[39m(\u001b[38;5;28mself\u001b[39m, X):\n\u001b[0;32m---> 30\u001b[0m     \u001b[38;5;28;01mreturn\u001b[39;00m \u001b[43mnp\u001b[49m\u001b[38;5;241;43m.\u001b[39;49m\u001b[43mdot\u001b[49m\u001b[43m(\u001b[49m\u001b[43mX\u001b[49m\u001b[43m,\u001b[49m\u001b[43m \u001b[49m\u001b[38;5;28;43mself\u001b[39;49m\u001b[38;5;241;43m.\u001b[39;49m\u001b[43mcoef_\u001b[49m\u001b[43m)\u001b[49m \u001b[38;5;241m+\u001b[39m \u001b[38;5;28mself\u001b[39m\u001b[38;5;241m.\u001b[39mintercept_\n",
      "File \u001b[0;32m<__array_function__ internals>:200\u001b[0m, in \u001b[0;36mdot\u001b[0;34m(*args, **kwargs)\u001b[0m\n",
      "\u001b[0;31mValueError\u001b[0m: shapes (100,1) and (100,) not aligned: 1 (dim 1) != 100 (dim 0)"
     ]
    }
   ],
   "source": [
    "preds_sklearn = model_sklearn.predict(X)\n",
    "preds_fscore_1 = model_fscore_1.predict(X)\n",
    "preds_fscore_2 = model_fscore_2.predict(X)\n",
    "\n",
    "plt.figure(figsize=(10,4))\n",
    "plt.scatter(X, y)\n",
    "plt.plot(X, preds_sklearn, color='red')\n",
    "plt.plot(X, preds_fscore_1, color='yellow')\n",
    "plt.plot(X, preds_fscore_2, color='green')\n",
    "\n",
    "plt.show()"
   ]
  },
  {
   "cell_type": "markdown",
   "id": "bb24caac",
   "metadata": {},
   "source": [
    "# Multi-Dimensional Data"
   ]
  },
  {
   "cell_type": "code",
   "execution_count": null,
   "id": "1d06078c",
   "metadata": {
    "scrolled": true
   },
   "outputs": [],
   "source": [
    "X, y = sample_data.diabetes_data()"
   ]
  },
  {
   "cell_type": "code",
   "execution_count": null,
   "id": "c6283e78",
   "metadata": {
    "scrolled": false
   },
   "outputs": [],
   "source": [
    "# Don't plot the sex data\n",
    "X = X.drop(columns='sex')\n",
    "features = X.columns\n",
    "\n",
    "# Plot\n",
    "fig, axs = plt.subplots(3, 3)\n",
    "fig.suptitle('Diabetes Dataset')\n",
    "for i in range(3):\n",
    "    for j in range(3):\n",
    "        n = j + i * 3\n",
    "        feature = features[n]\n",
    "        axs[i, j].scatter(X[feature], y, s=1)\n",
    "        axs[i, j].set_xlabel(feature)\n",
    "        axs[i, j].set_ylabel('target')\n",
    "plt.tight_layout()\n",
    "plt.show()"
   ]
  },
  {
   "cell_type": "markdown",
   "id": "fdf64212",
   "metadata": {},
   "source": [
    "## Multiple Linear Regression with SkLearn"
   ]
  },
  {
   "cell_type": "code",
   "execution_count": null,
   "id": "24cb253d",
   "metadata": {},
   "outputs": [],
   "source": [
    "X, y = X.to_numpy(), y.to_numpy()"
   ]
  },
  {
   "cell_type": "code",
   "execution_count": null,
   "id": "ce762418",
   "metadata": {},
   "outputs": [],
   "source": [
    "# SkLearn for Comparision\n",
    "model_sklearn = LinearRegression(fit_intercept=True)\n",
    "model_sklearn.fit(X,y)\n",
    "print(\"Coef_:\\n\", model_sklearn.coef_)\n",
    "print(\"\\nIntercept_:\\n\", model_sklearn.intercept_)\n",
    "print(\"\\nMSE:\\n\",loss.mean_squared_error(y, model_sklearn.predict(X)))"
   ]
  },
  {
   "cell_type": "markdown",
   "id": "f8fcba8c",
   "metadata": {},
   "source": [
    "## Custom Multiple Linear Regression"
   ]
  },
  {
   "cell_type": "code",
   "execution_count": null,
   "id": "b78020ef",
   "metadata": {},
   "outputs": [],
   "source": [
    "class MultipleLinearRegression():\n",
    "    def __init__(self):\n",
    "        self.betas = None\n",
    "        self.coef_ = None\n",
    "        self.intercept_ = None\n",
    "        \n",
    "        self.betas_history = {}\n",
    "        self.loss_history = {}\n",
    "        self.gradients_history = {}\n",
    "    \n",
    "    def fit_stat(self, X, y):\n",
    "        # Closed-form Solution\n",
    "        self.n, self.d = X.shape\n",
    "        x_0 = np.ones((self.n, 1))\n",
    "        x = np.hstack((x_0, X))\n",
    "        self.betas = np.linalg.inv(np.dot(x.T, x)).dot(np.dot(x.T, y))\n",
    "\n",
    "        self.intercept_ = self.betas[0]\n",
    "        self.coef_ = self.betas[1:]\n",
    "        return self\n",
    "    \n",
    "    def fit_grad(self, X, y, lr, iters, regularization=False):\n",
    "        # Batch Gradient Descent Solution\n",
    "        reg = 0\n",
    "        if regularization:\n",
    "            reg = 0.1\n",
    "        y = y.reshape(-1, 1)\n",
    "        self.n, self.d = X.shape\n",
    "        x_0 = np.ones((self.n, 1))\n",
    "        x = np.hstack((x_0, X))\n",
    "\n",
    "        # Initialize betas\n",
    "        self.betas = np.random.randn(self.d + 1, 1)\n",
    "\n",
    "        for i in range(iters):\n",
    "            y_pred = np.dot(x, self.betas)\n",
    "            delta_betas = 2 * np.dot(x.T, (y_pred - y)) + reg * self.betas\n",
    "            self.betas -= (lr * delta_betas)\n",
    "\n",
    "            # Logging Loss\n",
    "            self.gradients_history[i] = delta_betas\n",
    "            b = self.betas.copy()\n",
    "            self.betas_history[i] = b\n",
    "            self.loss_history[i] = loss.mean_squared_error(y_pred, y)\n",
    "\n",
    "        self.intercept_ = self.betas[0]\n",
    "        self.coef_ = self.betas[1:]\n",
    "        return self\n",
    "        \n",
    "    def predict(self, X):\n",
    "        x_0 = np.ones((X.shape[0], 1))\n",
    "        x = np.hstack((x_0, X))\n",
    "        return np.dot(x, self.betas)"
   ]
  },
  {
   "cell_type": "code",
   "execution_count": null,
   "id": "fa45c275",
   "metadata": {},
   "outputs": [],
   "source": [
    "# Closed-form solution\n",
    "model_fscore_1 = MultipleLinearRegression()\n",
    "model_fscore_1.fit_stat(X,y)\n",
    "print(\"Coef_:\\n\", model_fscore_1.coef_)\n",
    "print(\"\\nIntercept_:\\n\", model_fscore_1.intercept_)\n",
    "print(\"\\nMSE:\\n\",loss.mean_squared_error(y, model_fscore_1.predict(X)))"
   ]
  },
  {
   "cell_type": "markdown",
   "id": "f07e0688",
   "metadata": {},
   "source": [
    "# Linear Regression Batch Gradient Descent Analysis"
   ]
  },
  {
   "cell_type": "code",
   "execution_count": null,
   "id": "a496a75a",
   "metadata": {},
   "outputs": [],
   "source": [
    "model = MultipleLinearRegression()\n",
    "model.fit_grad(X, y, lr=1e-8, iters=100000, regularization=False)\n",
    "print(\"Coef_:\\n\", model.coef_)\n",
    "print(\"\\nIntercept_:\\n\", model.intercept_)\n",
    "print(\"\\nMSE:\\n\",loss.mean_squared_error(y, model.predict(X)))"
   ]
  },
  {
   "cell_type": "code",
   "execution_count": null,
   "id": "19b863b4",
   "metadata": {
    "scrolled": false
   },
   "outputs": [],
   "source": [
    "# Logging and visualizing stored training data\n",
    "model_betas = np.array(list(model.betas_history.values()))\n",
    "model_gradients = np.array(list(model.gradients_history.values()))\n",
    "model_loss = np.array(list(model.loss_history.values()))\n",
    "\n",
    "# Visualize Model Gradients\n",
    "fig, axs = plt.subplots(3,3,constrained_layout=True)\n",
    "fig.suptitle('Model Gradients vs. Iterations')\n",
    "for i in range(3):\n",
    "    for j in range(3):\n",
    "        n = j + i * 3\n",
    "        axs[i][j].plot(model.gradients_history.keys(), model_gradients[:, n])\n",
    "plt.show()\n",
    "\n",
    "# Visualize Model Parameters\n",
    "fig, axs = plt.subplots(3, 3, constrained_layout = True)\n",
    "fig.suptitle('Model Parameters vs. Iterations')\n",
    "for i in range(3):\n",
    "    for j in range(3):\n",
    "        n = j + i * 3\n",
    "        axs[i][j].plot(model.betas_history.keys(), model_betas[:, n])\n",
    "plt.show()\n",
    "\n",
    "# Visualize Model Loss\n",
    "plt.plot(model.loss_history.keys(), model_loss)\n",
    "plt.title(\"Loss vs. Iterations\")\n",
    "plt.show()"
   ]
  },
  {
   "cell_type": "code",
   "execution_count": null,
   "id": "41a2c41c",
   "metadata": {},
   "outputs": [],
   "source": [
    "# Plot\n",
    "fig, axs = plt.subplots(3, 3)\n",
    "fig.suptitle('Diabetes Dataset')\n",
    "for i in range(3):\n",
    "    for j in range(3):\n",
    "        n = j + i * 3\n",
    "        axs[i][j].scatter(X[:, n], y, s=1)\n",
    "        axs[i][j].scatter(X[:, n], model.predict(X), s=1)\n",
    "plt.tight_layout()\n",
    "plt.show()"
   ]
  },
  {
   "cell_type": "code",
   "execution_count": null,
   "id": "0f9ab7cc",
   "metadata": {},
   "outputs": [],
   "source": []
  },
  {
   "cell_type": "code",
   "execution_count": null,
   "id": "13b3dac6",
   "metadata": {},
   "outputs": [],
   "source": []
  },
  {
   "cell_type": "code",
   "execution_count": null,
   "id": "477775fc",
   "metadata": {},
   "outputs": [],
   "source": []
  }
 ],
 "metadata": {
  "kernelspec": {
   "display_name": "Python 3 (ipykernel)",
   "language": "python",
   "name": "python3"
  },
  "language_info": {
   "codemirror_mode": {
    "name": "ipython",
    "version": 3
   },
   "file_extension": ".py",
   "mimetype": "text/x-python",
   "name": "python",
   "nbconvert_exporter": "python",
   "pygments_lexer": "ipython3",
   "version": "3.11.3"
  }
 },
 "nbformat": 4,
 "nbformat_minor": 5
}
